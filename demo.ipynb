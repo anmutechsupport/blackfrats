{
 "cells": [
  {
   "cell_type": "code",
   "execution_count": null,
   "metadata": {},
   "outputs": [],
   "source": [
    "%pip install replicate\n",
    "%pip install jupyterquiz"
   ]
  },
  {
   "cell_type": "code",
   "execution_count": 11,
   "metadata": {},
   "outputs": [
    {
     "name": "stdout",
     "output_type": "stream",
     "text": [
      "r8_6HeipA7esvdRbFfCkSZxnL8QD2CYryI1LuTGX\n"
     ]
    }
   ],
   "source": [
    "import replicate\n",
    "import os \n",
    "from IPython.display import Video, Image\n",
    "\n",
    "os.environ[\"REPLICATE_API_TOKEN\"] = \"r8_6HeipA7esvdRbFfCkSZxnL8QD2CYryI1LuTGX\"\n",
    "print(os.environ.get(\"REPLICATE_API_TOKEN\"))\n",
    "replicate = replicate.Client(api_token='r8_6HeipA7esvdRbFfCkSZxnL8QD2CYryI1LuTGX')\n",
    "\n",
    "class txt2gif:\n",
    "    def __init__(self, prompt):\n",
    "        self.prompt = prompt\n",
    "        self.gif = \"\"\n",
    "    def generate(self):\n",
    "        self.gif = replicate.run(\n",
    "        \"lucataco/hotshot-xl:78b3a6257e16e4b241245d65c8b2b81ea2e1ff7ed4c55306b511509ddbfd327a\",\n",
    "        input={\n",
    "            \"mp4\": False,\n",
    "            \"seed\": 6226,\n",
    "            \"steps\": 30,\n",
    "            \"width\": 672,\n",
    "            \"height\": 384,\n",
    "            \"prompt\": self.prompt,\n",
    "            \"scheduler\": \"EulerAncestralDiscreteScheduler\",\n",
    "            \"negative_prompt\": \"lowres, text, error, cropped, worst quality, low quality, jpeg artifacts, ugly, duplicate, morbid, mutilated, out of frame, extra fingers, mutated hands, poorly drawn hands, poorly drawn face, mutation, deformed, blurry, dehydrated, bad anatomy, bad proportions, extra limbs, cloned face, disfigured, gross proportions, malformed limbs, missing arms, missing legs, extra arms, extra legs, fused fingers, too many fingers, long neck, username, watermark, signature\"\n",
    "        }\n",
    "        )\n",
    "    def show(self):\n",
    "        return Image(url=self.gif)"
   ]
  },
  {
   "cell_type": "code",
   "execution_count": null,
   "metadata": {},
   "outputs": [],
   "source": [
    "test = txt2gif(\"Cat in a hat\")\n",
    "test.generate()\n",
    "test.show()"
   ]
  },
  {
   "cell_type": "markdown",
   "metadata": {},
   "source": [
    "# What are Fraternal Organizations? \n",
    "\n",
    "Fraternal organizations are societies typically formed for mutual aid and companionship. These organizations are bonded by common goals, aspirations, and ideologies, often with rituals and symbols unique to their structure. One of the key characteristics of fraternal organizations is their commitment to community service, moral development, and social networking among members. \n",
    "\n",
    "#### Freemasonry: A High-Level Overview\n",
    "\n",
    "**Freemasonry** stands out as one of the most recognized fraternal organizations. Its origins trace back to the late 16th to early 17th century, evolving from the stonemason guilds of the Middle Ages. It is often described as a system of morality, veiled in allegory and illustrated by symbols, with a primary objective of moral and ethical improvement of its members.\n",
    "\n",
    "**Key Characteristics of Freemasonry:**\n",
    "- **Values**: Freemasonry espouses values such as integrity, kindness, honesty, and fairness.\n",
    "- **Structure**: It is structured in a hierarchical order with various degrees of initiation, the most common being the Entered Apprentice, Fellowcraft, and Master Mason.\n",
    "- **Secrecy and Rituals**: Freemasonry is known for its secret handshakes, rituals, and symbols, like the square and compasses.\n",
    "- **Community Service**: Freemasons are deeply involved in charitable work, contributing to various causes and community services.\n",
    "\n",
    "**Freemasonry in the Context of Black Communities:**\n",
    "- Freemasonry played a significant role in providing a support system for Black communities, especially in historical contexts where they faced discrimination and social exclusion.\n",
    "- Prince Hall Freemasonry, a branch of Freemasonry primarily for African Americans, was founded by Prince Hall and is a notable example of how Freemasonry adapted to the needs of Black communities, promoting racial equality and social justice.\n",
    "\n",
    "<img src=\"https://files.shroomery.org/files/09-19/185740633-163012326-emblematic-structure-of-freemasonry.gif\" width=\"600\" height=\"800\">\n",
    "\n"
   ]
  },
  {
   "cell_type": "markdown",
   "metadata": {},
   "source": [
    "# Union Lodge in Halifax \n",
    "\n",
    "#### Freemasonry's Appeal to Transportation Workers\n",
    "- **Background**: Freemasonry significantly influenced transportation workers like seamen and railwaymen.\n",
    "\n",
    "- **Membership Composition**: Approximately 60% of Union Lodge members were black transportation workers.\n",
    "\n",
    "- **International Network**: Freemasonry offered a global network providing contacts, resources in times of distress, and security for families of constantly mobile members.\n",
    "\n",
    "#### Union Lodge and Masonic Honors\n",
    "- **Diverse Membership**: Union Lodge in Halifax was notable for its varied members, including prominent citizens and transient workers.\n",
    "\n",
    "- **Masonic Support**: Provided support to black porters and seamen often excluded from labor unions. Notable cases include Masonic honors for deceased members like Robert J. White, who received care in a Masonic bed at Victoria General Hospital.\n",
    "\n",
    "#### Freemasonry and Social Mobility\n",
    "- **Financial Support Systems**: Attracted black transportation workers with benefits akin to early life insurance, including sickness, funeral, and widows' funds.\n",
    "\n",
    "- **Generational Involvement**: The lodge saw membership across family generations, often leading to new members entering railway employment.\n",
    "\n",
    "#### Integration with Other Fraternal Orders\n",
    "- **Cross-Order Participation**: Caribbean immigrants in Halifax were involved in Freemasonry and other British fraternal orders like the IOGT and IOOF, reinforcing loyalty to British forms and institutions.\n",
    "\n",
    "#### Role of Freemasonry in Community and Employment\n",
    "- **Community Bonding**: Freemasonry provided a sense of belonging, especially for marginalized job roles.\n",
    "\n",
    "- **Indicator of Limited Job Opportunities**: Highlighted the narrowing job opportunities for well-educated black men due to racial discrimination.\n",
    "\n",
    "#### Historical Context\n",
    "- **Employment and Social Patterns**: The lodge’s history is contextualized within the employment, family life, and social mobility patterns of black transportation workers in Halifax.\n",
    "\n",
    "#### Examples of Economic Outcomes\n",
    "- **Transition to Entrepreneurship**: Beresford Augustus Husbands, a Barbadian seaman and Freemason, initially worked as a porter for the Intercolonial Railway between 1904 and 1909. He then transitioned to entrepreneurship by opening an advertising agency and later, in 1914, a West Indian products import company. His initiation into Freemasonry and subsequent marriage likely provided him with the network and social capital necessary for these entrepreneurial ventures.\n",
    "\n",
    "- **Joint Ventures in Marine Education**: Clifford Edmund Ward, a master mariner and Freemason originally from Barbados, opened the only marine school in Halifax in the early 20th century. This school catered to training white masters and mates for certification examinations. His Freemason affiliation, coupled with his maritime expertise, likely played a critical role in establishing this educational venture.\n",
    "\n",
    "- **Diverse Business Endeavors**: The Freemasons in the document demonstrated a range of entrepreneurial activities. While some, like Husbands, moved into advertising and import business, others like William Chearnley, who alternated between being a barber and a porter, displayed occupational pluralism. This diversity indicates that Freemason connections facilitated a variety of economic opportunities, from traditional trades to more modern enterprises.\n",
    "\n",
    "- **Support in Career Transitions**: Freemasonry provided a platform for members to support each other in career transitions. For example, James McN. Daniels transitioned from a seafaring career to railway employment and later became a prominent figure in the black community and a lodge master, indicating that Freemasonry played a role in his professional advancement and transition.\n",
    "\n",
    "<img src=\"https://files.shroomery.org/files/09-19/185740633-163012326-emblematic-structure-of-freemasonry.gif\" width=\"600\" height=\"800\">\n"
   ]
  },
  {
   "cell_type": "code",
   "execution_count": 12,
   "metadata": {},
   "outputs": [
    {
     "data": {
      "text/html": [
       "<img src=\"https://replicate.delivery/pbxt/09WicWMcvAqmN5MZIzecLPHioRu63CbUk57RCzZ6XkNIWBBJA/output.gif\"/>"
      ],
      "text/plain": [
       "<IPython.core.display.Image object>"
      ]
     },
     "execution_count": 12,
     "metadata": {},
     "output_type": "execute_result"
    }
   ],
   "source": [
    "prompt_halifax = \"A digital artwork portraying the daily life of Black Freemasons and transportation workers in early 20th-century Halifax, showing them in a harmonious gathering. The scene is set against a backdrop of historic Halifax docks, with a muted color palette evoking a sense of nostalgia. Emphasize the dignity and solidarity of the figures, drawing inspiration from realism art style.\"\n",
    "halifax_gif = txt2gif(prompt_halifax)\n",
    "halifax_gif.generate()\n",
    "halifax_gif.show()"
   ]
  },
  {
   "cell_type": "markdown",
   "metadata": {},
   "source": [
    "# Prince Hall Freemasonry in Ontario\n",
    "\n",
    "#### Foundation and Expansion\n",
    "- **Post-Emancipation Growth**: Following the Emancipation Act of 1833, Prince Hall Freemasonry expanded significantly in Canada, driven by the influx of Blacks seeking freedom.\n",
    "- **Significance**: This branch of Freemasonry was established to serve people of color, offering a unique space for community and support.\n",
    "\n",
    "#### Freedom and Security\n",
    "- **Safe Haven**: Prince Hall Freemasonry provided freedom, security, and safety, distinguishing itself as a unique organization primarily for and by people of color.\n",
    "\n",
    "#### Community of Empowerment\n",
    "- **Empowering Community**: The organization fostered a sense of belonging and empowerment among its members, particularly in the face of social and political challenges post-emancipation.\n",
    "\n",
    "#### Leadership Opportunities\n",
    "- **Cultivating Leaders**: Enabled Black men to transition from inferior societal roles to positions of leadership and influence, contributing to personal development and societal recognition.\n",
    "\n",
    "#### Prominent Figures\n",
    "- **Notable Members**: Key figures such as Dr. Martin Delany, Rev. Thomas Stringer, Abraham D. Shadd, and Rev. Benjamin Stewart emerged as leaders, symbolizing the organization's role in nurturing Black leadership.\n",
    "\n",
    "#### Canadian Establishments\n",
    "- **Spread Across Canada West**: The first Prince Hall Masonry lodge in Canada was established in Hamilton in 1851, with subsequent lodges in Toronto, Owen Sound, London, Chatham, Dresden, Buxton, and Windsor.\n",
    "\n",
    "#### Unification and Structure\n",
    "- **Organizational Growth**: To manage the rapid expansion of lodges, the Prince Hall Masons in Ontario united in 1871 to form the Grand Lodge of the Province of Ontario.\n",
    "\n",
    "#### Rev. Benjamin F. Stewart's Role\n",
    "- **Influential Leadership**: Rev. Benjamin Stewart significantly influenced Prince Hall Masonry in Canada and the U.S., demonstrating impactful leadership in both the church and Masonic lodges.\n",
    "\n",
    "#### Impact on Local Black Communities\n",
    "- **Community Enhancement**: In places like Chatham Kent, Ontario, Prince Hall Freemasonry profoundly affected the lives of the Black community, enriching cultural and historical foundations.\n",
    "\n",
    "#### Legacy and Recognition\n",
    "- **Enduring Significance**: The legacy and cultural significance of Prince Hall Freemasonry continue to be recognized for its historical impact on Black Canadian communities.\n",
    "\n",
    "**Below is an image of the Prince Hall Freemasonry Grand Master medal**:\n",
    "\n",
    "<img src=\"https://www.huronresearch.ca/antislavery/wp-content/uploads/sites/24/2019/03/IMG_1626-1500x2000.jpg\" width=\"400\" height=\"600\">"
   ]
  },
  {
   "cell_type": "code",
   "execution_count": 13,
   "metadata": {},
   "outputs": [
    {
     "data": {
      "text/html": [
       "<img src=\"https://replicate.delivery/pbxt/AzAeQc5feDXp6o8S7SyUSbthbwXcvE1K1NfyISxujE4HyKIIB/output.gif\"/>"
      ],
      "text/plain": [
       "<IPython.core.display.Image object>"
      ]
     },
     "execution_count": 13,
     "metadata": {},
     "output_type": "execute_result"
    }
   ],
   "source": [
    "prompt_ontario = \"Early 20th century, Prince Hall Freemasonry gathering in Ontario, group of dignified Black men in Masonic regalia, vibrant yet solemn atmosphere, historical urban Canadian backdrop, sepia tones, intricate masonic symbols subtly integrated, soft dynamic lighting, oil painting style reminiscent of classical portraiture, detailed architectural elements, sense of unity and empowerment, heightened realism, depth in texture, emotional resonance, strong contrast with muted colors.\"\n",
    "ontario_gif = txt2gif(prompt_ontario)\n",
    "ontario_gif.generate()\n",
    "ontario_gif.show()"
   ]
  },
  {
   "cell_type": "markdown",
   "metadata": {},
   "source": [
    "# Historically Significant Masons: Charles Lightfoot Roman \n",
    "\n",
    "#### A Trailblazing Doctor and Freemason:\n",
    "- **First Black Grand Master**: Roman became the first Black Grand Master of a traditional Masonic lodge.\n",
    "- **Freemasonry Career**: Initiated into Valleyfield Lodge (1923), Worshipful Master (1929), District Deputy Grand Master for Montreal District No. 3 (1934), Deputy Grand Master of the Grand Lodge of Quebec (1950), and elected Grand Master (1952).\n",
    "- **Significant Achievement**: Believed to be the first Black person to lead a traditional or mainstream Grand Lodge in North America.\n",
    "- **Military Service**: One of the first Black Canadians to enlist for service in WWI with the Canadian General Hospital No. 3 (McGill).\n",
    "- **Academic and Professional Accomplishments**: Graduated from McGill University’s Faculty of Medicine and became a renowned expert in industrial medicine.\n",
    "\n",
    "#### Joseph Henson: The Predecessor\n",
    "- **Dawn Settlement Founder**: Established the Dawn Settlement near Chatham, Ontario, a pivotal community for escaped slaves and free Black people.\n",
    "- **Education Advocate**: Emphasized the importance of education, establishing a manual-labor school in the Dawn Settlement.\n",
    "- **Freemasonry Role**: Joined Mount Moriah Lodge No. 11 in Dresden, Ontario, under the Prince Hall Affiliation, serving as its Secretary.\n",
    "- **Rescue Effort**: Played a key role in rescuing the Lightfoot family from Kentucky to Canada through the Underground Railroad, building strong community ties.\n",
    "- **Legacy**: Paved the way for future generations, influencing descendants like Dr. Charles Lightfoot Roman.\n",
    "\n",
    "**Below is an image of Charles Roman Lightfoot**:\n",
    "\n",
    "<img src=\"https://d3d0lqu00lnqvz.cloudfront.net/media/media/c22f2dde-a1f0-4d37-a764-ff8dac64c843.jpg\" width=\"400\" height=\"600\">"
   ]
  },
  {
   "cell_type": "code",
   "execution_count": 14,
   "metadata": {},
   "outputs": [
    {
     "data": {
      "text/html": [
       "<img src=\"https://replicate.delivery/pbxt/vU3qLBzOWnIdG9AeO9uaydAEfYuzEFYSexgweeccHuASmVQQC/output.gif\"/>"
      ],
      "text/plain": [
       "<IPython.core.display.Image object>"
      ]
     },
     "execution_count": 14,
     "metadata": {},
     "output_type": "execute_result"
    }
   ],
   "source": [
    "prompt_lightfoot = \"2 Black Men Shaking Hands, Ontario Flag vs. Quebec Flag Background, 20th Century, Historical, Freemasonry, Masonic, Masons, Masonic Regalia, Masonic Symbols, Masonic Lodge\"\n",
    "lightfoot_gif = txt2gif(prompt_lightfoot)\n",
    "lightfoot_gif.generate()\n",
    "lightfoot_gif.show()"
   ]
  },
  {
   "cell_type": "markdown",
   "metadata": {},
   "source": [
    "# Brotherhood of Sleeping Car Porters in Canada\n",
    "\n",
    "#### Challenging Working Conditions\n",
    "- **Demanding Roles**: Porters, who were often highly educated, faced exhausting and demeaning work, performing tasks like fetching drinks, making beds, and carrying luggage for long hours with little rest.\n",
    "\n",
    "#### Low Wages and Racial Discrimination\n",
    "- **Economic Hardship**: Porters were poorly compensated, heavily reliant on tips, and faced workplace discrimination, with roles like train conductors reserved for white employees until 1954.\n",
    "\n",
    "#### Formation of the OSCP\n",
    "- **First Black Labor Union**: In response to poor working conditions, the Order of Sleeping Car Porters (OSCP), North America's first Black labor union, was established in 1917 by Black Canadian porters.\n",
    "\n",
    "#### Negotiations for Better Conditions\n",
    "- **Union Efforts**: Despite resistance, the OSCP successfully negotiated improved wages and job protections with Canadian National Railway (CNR) by 1919, but faced challenges with Canadian Pacific Railway (CPR).\n",
    "\n",
    "#### Brotherhood of Sleeping Car Porters (BSCP) in Canada\n",
    "- **Organizational Growth**: Supported by the American BSCP, Canadian porters began organizing in 1939, establishing BSCP divisions in major cities by 1942, and achieving a collective bargaining agreement with the CPR in 1945.\n",
    "- **Founding Influence**: Originally founded in New York City in 1925 by A. Philip Randolph, who was also a Freemason.\n",
    "\n",
    "#### Breaking Racial Barriers\n",
    "- **Historical Milestone**: The BSCP's advocacy led to the hiring of the first Black sleeping car conductor in Canada in 1954, marking a major step in breaking down racial barriers in the workplace.\n",
    "\n",
    "#### Broader Impact on Civil Rights\n",
    "- **Advocacy Beyond Labor Rights**: The BSCP significantly contributed to civil rights movements, advocating for the broader rights and equality of Black Canadians.\n",
    "\n",
    "#### Legacy\n",
    "- **Enduring Impact**: The BSCP's legacy is marked by resilience and courage against racial discrimination and exploitation, laying a foundation for future civil rights advancements.\n",
    "\n",
    "**Below is an image of Stanley G. Grizzle's plaque in the car he was in charge of**:\n",
    "\n",
    "<img src=\"https://d3d0lqu00lnqvz.cloudfront.net/media/new_article_images/SleepingCarPorters/L3D311048.jpg\" width=\"600\" height=\"400\">\n"
   ]
  },
  {
   "cell_type": "code",
   "execution_count": 15,
   "metadata": {},
   "outputs": [
    {
     "data": {
      "text/html": [
       "<img src=\"https://replicate.delivery/pbxt/YFtDEgj6eY09SKK2TIPUE0Yq4LelVZoNbEDKe8BqYypGaFEkA/output.gif\"/>"
      ],
      "text/plain": [
       "<IPython.core.display.Image object>"
      ]
     },
     "execution_count": 15,
     "metadata": {},
     "output_type": "execute_result"
    }
   ],
   "source": [
    "prompt_porters = \"Early 20th-century Canadian railway scene, Black sleeping car porters in uniform, hard at work in a vintage train car, sepia-toned imagery, feeling of movement and labor, contrasting expressions of determination and resilience, subtle background elements of Canadian landscapes, historical ambiance, muted yet warm lighting, focus on detailed gestures and interactions, representation of unity and strength in adversity, art style reminiscent of period photography, visual storytelling of struggle and progress, textured fabric details, atmospheric depth, emotional narrative.\"\n",
    "porters_gif = txt2gif(prompt_porters)\n",
    "porters_gif.generate()\n",
    "porters_gif.show()"
   ]
  },
  {
   "cell_type": "markdown",
   "metadata": {},
   "source": [
    "# Quiz Time!"
   ]
  },
  {
   "cell_type": "code",
   "execution_count": 7,
   "metadata": {},
   "outputs": [
    {
     "data": {
      "text/html": [
       "<div id=\"BYuOqURkhaED\" data-shufflequestions=\"False\"\n",
       "               data-shuffleanswers=\"True\"\n",
       "               data-preserveresponses=\"false\"\n",
       "               data-numquestions=\"1000000\"\n",
       "               data-maxwidth=\"600\"\n",
       "               style=\"border-radius: 10px; text-align: left\"> <style>\n",
       "#BYuOqURkhaED {\n",
       "   --jq-multiple-choice-bg: #6f78ffff;\n",
       "   --jq-mc-button-bg: #fafafa;\n",
       "   --jq-mc-button-border: #e0e0e0e0;\n",
       "   --jq-mc-button-inset-shadow: #555555;\n",
       "   --jq-many-choice-bg: #f75c03ff;\n",
       "   --jq-numeric-bg: #392061ff;\n",
       "   --jq-numeric-input-bg: #c0c0c0;\n",
       "   --jq-numeric-input-label: #101010;\n",
       "   --jq-numeric-input-shadow: #999999;\n",
       "   --jq-incorrect-color: #c80202;\n",
       "   --jq-correct-color: #009113;\n",
       "   --jq-text-color: #fafafa;\n",
       "}\n",
       "\n",
       ".Quiz {\n",
       "    max-width: 600px;\n",
       "    margin-top: 15px;\n",
       "    margin-left: auto;\n",
       "    margin-right: auto;\n",
       "    margin-bottom: 15px;\n",
       "    padding-bottom: 4px;\n",
       "    padding-top: 4px;\n",
       "    line-height: 1.1;\n",
       "    font-size: 16pt;\n",
       "    border-radius: inherit;\n",
       "}\n",
       "\n",
       ".QuizCode {\n",
       "    font-size: 14pt;\n",
       "    margin-top: 10px;\n",
       "    margin-left: 20px;\n",
       "    margin-right: 20px;\n",
       "}\n",
       "\n",
       ".QuizCode>pre {\n",
       "    padding: 4px;\n",
       "}\n",
       "\n",
       ".Answer {\n",
       "    margin: 10px 0;\n",
       "    display: grid;\n",
       "    grid-template-columns: 1fr 1fr;\n",
       "    grid-gap: 10px;\n",
       "    border-radius: inherit;\n",
       "}\n",
       "\n",
       ".Feedback {\n",
       "    font-size: 16pt;\n",
       "    text-align: center;\n",
       "    min-height: 2em;\n",
       "}\n",
       "\n",
       ".Input {\n",
       "    align: left;\n",
       "    font-size: 20pt;\n",
       "}\n",
       "\n",
       ".Input-text {\n",
       "    display: block;\n",
       "    margin: 10px;\n",
       "    color: inherit;\n",
       "    width: 140px;\n",
       "    background-color: var(--jq-numeric-input-bg);\n",
       "    color: var(--jq-text-color);\n",
       "    padding: 5px;\n",
       "    padding-left: 10px;\n",
       "    font-family: inherit;\n",
       "    font-size: 20px;\n",
       "    font-weight: inherit;\n",
       "    line-height: 20pt;\n",
       "    border: none;\n",
       "    border-radius: 0.2rem;\n",
       "    transition: box-shadow 0.1s);\n",
       "}\n",
       "\n",
       ".Input-text:focus {\n",
       "    outline: none;\n",
       "    background-color: var(--jq-numeric-input-bg);\n",
       "    box-shadow: 0.6rem 0.8rem 1.4rem -0.5rem var(--jq-numeric-input-shadow);\n",
       "}\n",
       "\n",
       ".MCButton {\n",
       "    background: var(--jq-mc-button-bg);\n",
       "    border: 1px solid var(--jq-mc-button-border);\n",
       "    border-radius: inherit;\n",
       "    padding: 10px;\n",
       "    font-size: 16px;\n",
       "    cursor: pointer;\n",
       "    text-align: center;\n",
       "    display: flex;\n",
       "    align-items: center;\n",
       "    justify-content: center;\n",
       "}\n",
       "\n",
       ".MCButton p {\n",
       "    color: inherit;\n",
       "}\n",
       "\n",
       ".MultipleChoiceQn {\n",
       "    padding: 10px;\n",
       "    background: var(--jq-multiple-choice-bg);\n",
       "    color: var(--jq-text-color);\n",
       "    border-radius: inherit;\n",
       "}\n",
       "\n",
       ".ManyChoiceQn {\n",
       "    padding: 10px;\n",
       "    background: var(--jq-many-choice-bg);\n",
       "    color: var(--jq-text-color);\n",
       "    border-radius: inherit;\n",
       "}\n",
       "\n",
       ".NumericQn {\n",
       "    padding: 10px;\n",
       "    background: var(--jq-numeric-bg);\n",
       "    color: var(--jq-text-color);\n",
       "    border-radius: inherit;\n",
       "}\n",
       "\n",
       ".NumericQn p {\n",
       "    color: inherit;\n",
       "}\n",
       "\n",
       ".InpLabel {\n",
       "    line-height: 34px;\n",
       "    float: left;\n",
       "    margin-right: 10px;\n",
       "    color: var(--jq-numeric-input-label);\n",
       "    font-size: 15pt;\n",
       "}\n",
       "\n",
       ".incorrect {\n",
       "    color: var(--jq-incorrect-color);\n",
       "}\n",
       "\n",
       ".correct {\n",
       "    color: var(--jq-correct-color);\n",
       "}\n",
       "\n",
       ".correctButton {\n",
       "    /*\n",
       "    background: var(--jq-correct-color);\n",
       "   */\n",
       "    animation: correct-anim 0.6s ease;\n",
       "    animation-fill-mode: forwards;\n",
       "    color: var(--jq-text-color);\n",
       "    box-shadow: inset 0px 0px 5px var(--jq-mc-button-inset-shadow);\n",
       "    outline: none;\n",
       "}\n",
       "\n",
       ".incorrectButton {\n",
       "    animation: incorrect-anim 0.8s ease;\n",
       "    animation-fill-mode: forwards;\n",
       "    color: var(--jq-text-color);\n",
       "    box-shadow: inset 0px 0px 5px var(--jq-mc-button-inset-shadow);\n",
       "    outline: none;\n",
       "}\n",
       "\n",
       "@keyframes incorrect-anim {\n",
       "    100% {\n",
       "        background-color: var(--jq-incorrect-color);\n",
       "    }\n",
       "}\n",
       "\n",
       "@keyframes correct-anim {\n",
       "    100% {\n",
       "        background-color: var(--jq-correct-color);\n",
       "    }\n",
       "}\n",
       "</style>"
      ],
      "text/plain": [
       "<IPython.core.display.HTML object>"
      ]
     },
     "metadata": {},
     "output_type": "display_data"
    },
    {
     "data": {
      "application/javascript": "var questionsBYuOqURkhaED=[\n  {\n    \"question\": \"What role did fraternal organizations like Freemasonry play in the lives of Black transportation workers in Halifax?\",\n    \"type\": \"multiple_choice\",\n    \"answers\": [\n      {\n        \"answer\": \"Provided financial support and community\",\n        \"correct\": true,\n        \"feedback\": \"Correct. They offered a support system and a sense of community.\"\n      },\n      {\n        \"answer\": \"Offered transportation services\",\n        \"correct\": false,\n        \"feedback\": \"Incorrect. Their primary role was not in providing transportation.\"\n      },\n      {\n        \"answer\": \"Acted as a political party\",\n        \"correct\": false,\n        \"feedback\": \"Incorrect. They were not political entities.\"\n      },\n      {\n        \"answer\": \"Focused solely on religious activities\",\n        \"correct\": false,\n        \"feedback\": \"Incorrect. Their focus was broader than just religious activities.\"\n      }\n    ]\n  },\n  {\n    \"question\": \"Who was the first Black Grand Master of a traditional Masonic lodge in North America?\",\n    \"type\": \"multiple_choice\",\n    \"answers\": [\n      {\n        \"answer\": \"Charles Roman Lightfoot\",\n        \"correct\": true,\n        \"feedback\": \"Correct. He was the first Black Grand Master in North America.\"\n      },\n      {\n        \"answer\": \"Joseph Henson\",\n        \"correct\": false,\n        \"feedback\": \"Incorrect. Joseph Henson was significant but not in this role.\"\n      },\n      {\n        \"answer\": \"Martin Delany\",\n        \"correct\": false,\n        \"feedback\": \"Incorrect. Martin Delany was a prominent figure but not in this context.\"\n      },\n      {\n        \"answer\": \"Thomas Stringer\",\n        \"correct\": false,\n        \"feedback\": \"Incorrect. Thomas Stringer was notable but not the first Grand Master.\"\n      }\n    ]\n  },\n  {\n    \"question\": \"What was a key achievement of the Brotherhood of Sleeping Car Porters in Canada by 1954?\",\n    \"type\": \"multiple_choice\",\n    \"answers\": [\n      {\n        \"answer\": \"Integration of Black and white workers in the railway industry\",\n        \"correct\": true,\n        \"feedback\": \"Correct. They played a pivotal role in integrating Black workers into higher positions.\"\n      },\n      {\n        \"answer\": \"Establishment of the first Black-owned railway company\",\n        \"correct\": false,\n        \"feedback\": \"Incorrect. They did not establish a railway company.\"\n      },\n      {\n        \"answer\": \"Creation of the first Black-led political party\",\n        \"correct\": false,\n        \"feedback\": \"Incorrect. Their focus was on labor rights, not political parties.\"\n      },\n      {\n        \"answer\": \"Development of the first Black university in Canada\",\n        \"correct\": false,\n        \"feedback\": \"Incorrect. Their focus was on labor rights and not educational institutions.\"\n      }\n    ]\n  },\n  {\n    \"question\": \"What was a significant outcome of the expansion of Prince Hall Freemasonry in Ontario after the Emancipation Act of 1833?\",\n    \"type\": \"multiple_choice\",\n    \"answers\": [\n      {\n        \"answer\": \"Establishment of the first Black university in Ontario\",\n        \"correct\": false,\n        \"feedback\": \"Incorrect. The expansion focused on Freemasonry lodges, not educational institutions.\"\n      },\n      {\n        \"answer\": \"Formation of the Grand Lodge of the Province of Ontario in 1871\",\n        \"correct\": true,\n        \"feedback\": \"Correct. This was a key organizational development in response to the rapid expansion of lodges.\"\n      },\n      {\n        \"answer\": \"Integration of Freemasonry with political movements\",\n        \"correct\": false,\n        \"feedback\": \"Incorrect. While influential, the focus was more on community support and empowerment.\"\n      },\n      {\n        \"answer\": \"Creation of a new religious denomination\",\n        \"correct\": false,\n        \"feedback\": \"Incorrect. The expansion was related to Freemasonry, which is not a religious denomination.\"\n      }\n    ]\n  }\n]\n;\n    // Make a random ID\nfunction makeid(length) {\n    var result = [];\n    var characters = 'ABCDEFGHIJKLMNOPQRSTUVWXYZabcdefghijklmnopqrstuvwxyz';\n    var charactersLength = characters.length;\n    for (var i = 0; i < length; i++) {\n        result.push(characters.charAt(Math.floor(Math.random() * charactersLength)));\n    }\n    return result.join('');\n}\n\n// Choose a random subset of an array. Can also be used to shuffle the array\nfunction getRandomSubarray(arr, size) {\n    var shuffled = arr.slice(0), i = arr.length, temp, index;\n    while (i--) {\n        index = Math.floor((i + 1) * Math.random());\n        temp = shuffled[index];\n        shuffled[index] = shuffled[i];\n        shuffled[i] = temp;\n    }\n    return shuffled.slice(0, size);\n}\n\nfunction printResponses(responsesContainer) {\n    var responses=JSON.parse(responsesContainer.dataset.responses);\n    var stringResponses='<B>IMPORTANT!</B>To preserve this answer sequence for submission, when you have finalized your answers: <ol> <li> Copy the text in this cell below \"Answer String\"</li> <li> Double click on the cell directly below the Answer String, labeled \"Replace Me\"</li> <li> Select the whole \"Replace Me\" text</li> <li> Paste in your answer string and press shift-Enter.</li><li>Save the notebook using the save icon or File->Save Notebook menu item</li></ul><br><br><br><b>Answer String:</b><br> ';\n    console.log(responses);\n    responses.forEach((response, index) => {\n        if (response) {\n            console.log(index + ': ' + response);\n            stringResponses+= index + ': ' + response +\"<BR>\";\n        }\n    });\n    responsesContainer.innerHTML=stringResponses;\n}\nfunction check_mc() {\n    var id = this.id.split('-')[0];\n    //var response = this.id.split('-')[1];\n    //console.log(response);\n    //console.log(\"In check_mc(), id=\"+id);\n    //console.log(event.srcElement.id)           \n    //console.log(event.srcElement.dataset.correct)   \n    //console.log(event.srcElement.dataset.feedback)\n\n    var label = event.srcElement;\n    //console.log(label, label.nodeName);\n    var depth = 0;\n    while ((label.nodeName != \"LABEL\") && (depth < 20)) {\n        label = label.parentElement;\n        console.log(depth, label);\n        depth++;\n    }\n\n\n\n    var answers = label.parentElement.children;\n\n    //console.log(answers);\n\n\n    // Split behavior based on multiple choice vs many choice:\n    var fb = document.getElementById(\"fb\" + id);\n\n\n\n\n    if (fb.dataset.numcorrect == 1) {\n        // What follows is for the saved responses stuff\n        var outerContainer = fb.parentElement.parentElement;\n        var responsesContainer = document.getElementById(\"responses\" + outerContainer.id);\n        if (responsesContainer) {\n            //console.log(responsesContainer);\n            var response = label.firstChild.innerText;\n            if (label.querySelector(\".QuizCode\")){\n                response+= label.querySelector(\".QuizCode\").firstChild.innerText;\n            }\n            console.log(response);\n            //console.log(document.getElementById(\"quizWrap\"+id));\n            var qnum = document.getElementById(\"quizWrap\"+id).dataset.qnum;\n            console.log(\"Question \" + qnum);\n            //console.log(id, \", got numcorrect=\",fb.dataset.numcorrect);\n            var responses=JSON.parse(responsesContainer.dataset.responses);\n            console.log(responses);\n            responses[qnum]= response;\n            responsesContainer.setAttribute('data-responses', JSON.stringify(responses));\n            printResponses(responsesContainer);\n        }\n        // End code to preserve responses\n        \n        for (var i = 0; i < answers.length; i++) {\n            var child = answers[i];\n            //console.log(child);\n            child.className = \"MCButton\";\n        }\n\n\n\n        if (label.dataset.correct == \"true\") {\n            // console.log(\"Correct action\");\n            if (\"feedback\" in label.dataset) {\n                fb.textContent = jaxify(label.dataset.feedback);\n            } else {\n                fb.textContent = \"Correct!\";\n            }\n            label.classList.add(\"correctButton\");\n\n            fb.className = \"Feedback\";\n            fb.classList.add(\"correct\");\n\n        } else {\n            if (\"feedback\" in label.dataset) {\n                fb.textContent = jaxify(label.dataset.feedback);\n            } else {\n                fb.textContent = \"Incorrect -- try again.\";\n            }\n            //console.log(\"Error action\");\n            label.classList.add(\"incorrectButton\");\n            fb.className = \"Feedback\";\n            fb.classList.add(\"incorrect\");\n        }\n    }\n    else {\n        var reset = false;\n        var feedback;\n         if (label.dataset.correct == \"true\") {\n            if (\"feedback\" in label.dataset) {\n                feedback = jaxify(label.dataset.feedback);\n            } else {\n                feedback = \"Correct!\";\n            }\n            if (label.dataset.answered <= 0) {\n                if (fb.dataset.answeredcorrect < 0) {\n                    fb.dataset.answeredcorrect = 1;\n                    reset = true;\n                } else {\n                    fb.dataset.answeredcorrect++;\n                }\n                if (reset) {\n                    for (var i = 0; i < answers.length; i++) {\n                        var child = answers[i];\n                        child.className = \"MCButton\";\n                        child.dataset.answered = 0;\n                    }\n                }\n                label.classList.add(\"correctButton\");\n                label.dataset.answered = 1;\n                fb.className = \"Feedback\";\n                fb.classList.add(\"correct\");\n\n            }\n        } else {\n            if (\"feedback\" in label.dataset) {\n                feedback = jaxify(label.dataset.feedback);\n            } else {\n                feedback = \"Incorrect -- try again.\";\n            }\n            if (fb.dataset.answeredcorrect > 0) {\n                fb.dataset.answeredcorrect = -1;\n                reset = true;\n            } else {\n                fb.dataset.answeredcorrect--;\n            }\n\n            if (reset) {\n                for (var i = 0; i < answers.length; i++) {\n                    var child = answers[i];\n                    child.className = \"MCButton\";\n                    child.dataset.answered = 0;\n                }\n            }\n            label.classList.add(\"incorrectButton\");\n            fb.className = \"Feedback\";\n            fb.classList.add(\"incorrect\");\n        }\n        // What follows is for the saved responses stuff\n        var outerContainer = fb.parentElement.parentElement;\n        var responsesContainer = document.getElementById(\"responses\" + outerContainer.id);\n        if (responsesContainer) {\n            //console.log(responsesContainer);\n            var response = label.firstChild.innerText;\n            if (label.querySelector(\".QuizCode\")){\n                response+= label.querySelector(\".QuizCode\").firstChild.innerText;\n            }\n            console.log(response);\n            //console.log(document.getElementById(\"quizWrap\"+id));\n            var qnum = document.getElementById(\"quizWrap\"+id).dataset.qnum;\n            console.log(\"Question \" + qnum);\n            //console.log(id, \", got numcorrect=\",fb.dataset.numcorrect);\n            var responses=JSON.parse(responsesContainer.dataset.responses);\n            if (label.dataset.correct == \"true\") {\n                if (typeof(responses[qnum]) == \"object\"){\n                    if (!responses[qnum].includes(response))\n                        responses[qnum].push(response);\n                } else{\n                    responses[qnum]= [ response ];\n                }\n            } else {\n                responses[qnum]= response;\n            }\n            console.log(responses);\n            responsesContainer.setAttribute('data-responses', JSON.stringify(responses));\n            printResponses(responsesContainer);\n        }\n        // End save responses stuff\n\n\n\n        var numcorrect = fb.dataset.numcorrect;\n        var answeredcorrect = fb.dataset.answeredcorrect;\n        if (answeredcorrect >= 0) {\n            fb.textContent = feedback + \" [\" + answeredcorrect + \"/\" + numcorrect + \"]\";\n        } else {\n            fb.textContent = feedback + \" [\" + 0 + \"/\" + numcorrect + \"]\";\n        }\n\n\n    }\n\n    if (typeof MathJax != 'undefined') {\n        var version = MathJax.version;\n        console.log('MathJax version', version);\n        if (version[0] == \"2\") {\n            MathJax.Hub.Queue([\"Typeset\", MathJax.Hub]);\n        } else if (version[0] == \"3\") {\n            MathJax.typeset([fb]);\n        }\n    } else {\n        console.log('MathJax not detected');\n    }\n\n}\n\nfunction make_mc(qa, shuffle_answers, outerqDiv, qDiv, aDiv, id) {\n    var shuffled;\n    if (shuffle_answers == \"True\") {\n        //console.log(shuffle_answers+\" read as true\");\n        shuffled = getRandomSubarray(qa.answers, qa.answers.length);\n    } else {\n        //console.log(shuffle_answers+\" read as false\");\n        shuffled = qa.answers;\n    }\n\n\n    var num_correct = 0;\n\n\n\n    shuffled.forEach((item, index, ans_array) => {\n        //console.log(answer);\n\n        // Make input element\n        var inp = document.createElement(\"input\");\n        inp.type = \"radio\";\n        inp.id = \"quizo\" + id + index;\n        inp.style = \"display:none;\";\n        aDiv.append(inp);\n\n        //Make label for input element\n        var lab = document.createElement(\"label\");\n        lab.className = \"MCButton\";\n        lab.id = id + '-' + index;\n        lab.onclick = check_mc;\n        var aSpan = document.createElement('span');\n        aSpan.classsName = \"\";\n        //qDiv.id=\"quizQn\"+id+index;\n        if (\"answer\" in item) {\n            aSpan.innerHTML = jaxify(item.answer);\n            //aSpan.innerHTML=item.answer;\n        }\n        lab.append(aSpan);\n\n        // Create div for code inside question\n        var codeSpan;\n        if (\"code\" in item) {\n            codeSpan = document.createElement('span');\n            codeSpan.id = \"code\" + id + index;\n            codeSpan.className = \"QuizCode\";\n            var codePre = document.createElement('pre');\n            codeSpan.append(codePre);\n            var codeCode = document.createElement('code');\n            codePre.append(codeCode);\n            codeCode.innerHTML = item.code;\n            lab.append(codeSpan);\n            //console.log(codeSpan);\n        }\n\n        //lab.textContent=item.answer;\n\n        // Set the data attributes for the answer\n        lab.setAttribute('data-correct', item.correct);\n        if (item.correct) {\n            num_correct++;\n        }\n        if (\"feedback\" in item) {\n            lab.setAttribute('data-feedback', item.feedback);\n        }\n        lab.setAttribute('data-answered', 0);\n\n        aDiv.append(lab);\n\n    });\n\n    if (num_correct > 1) {\n        outerqDiv.className = \"ManyChoiceQn\";\n    } else {\n        outerqDiv.className = \"MultipleChoiceQn\";\n    }\n\n    return num_correct;\n\n}\nfunction check_numeric(ths, event) {\n\n    if (event.keyCode === 13) {\n        ths.blur();\n\n        var id = ths.id.split('-')[0];\n\n        var submission = ths.value;\n        if (submission.indexOf('/') != -1) {\n            var sub_parts = submission.split('/');\n            //console.log(sub_parts);\n            submission = sub_parts[0] / sub_parts[1];\n        }\n        //console.log(\"Reader entered\", submission);\n\n        if (\"precision\" in ths.dataset) {\n            var precision = ths.dataset.precision;\n            // console.log(\"1:\", submission)\n            submission = Math.round((1 * submission + Number.EPSILON) * 10 ** precision) / 10 ** precision;\n            // console.log(\"Rounded to \", submission, \" precision=\", precision  );\n        }\n\n\n        //console.log(\"In check_numeric(), id=\"+id);\n        //console.log(event.srcElement.id)           \n        //console.log(event.srcElement.dataset.feedback)\n\n        var fb = document.getElementById(\"fb\" + id);\n        fb.style.display = \"none\";\n        fb.textContent = \"Incorrect -- try again.\";\n\n        var answers = JSON.parse(ths.dataset.answers);\n        //console.log(answers);\n\n        var defaultFB = \"\";\n        var correct;\n        var done = false;\n        answers.every(answer => {\n            //console.log(answer.type);\n\n            correct = false;\n            // if (answer.type==\"value\"){\n            if ('value' in answer) {\n                if (submission == answer.value) {\n                    if (\"feedback\" in answer) {\n                        fb.textContent = jaxify(answer.feedback);\n                    } else {\n                        fb.textContent = jaxify(\"Correct\");\n                    }\n                    correct = answer.correct;\n                    //console.log(answer.correct);\n                    done = true;\n                }\n                // } else if (answer.type==\"range\") {\n            } else if ('range' in answer) {\n                //console.log(answer.range);\n                if ((submission >= answer.range[0]) && (submission < answer.range[1])) {\n                    fb.textContent = jaxify(answer.feedback);\n                    correct = answer.correct;\n                    //console.log(answer.correct);\n                    done = true;\n                }\n            } else if (answer.type == \"default\") {\n                defaultFB = answer.feedback;\n            }\n            if (done) {\n                return false; // Break out of loop if this has been marked correct\n            } else {\n                return true; // Keep looking for case that includes this as a correct answer\n            }\n        });\n\n        if ((!done) && (defaultFB != \"\")) {\n            fb.innerHTML = jaxify(defaultFB);\n            //console.log(\"Default feedback\", defaultFB);\n        }\n\n        fb.style.display = \"block\";\n        if (correct) {\n            ths.className = \"Input-text\";\n            ths.classList.add(\"correctButton\");\n            fb.className = \"Feedback\";\n            fb.classList.add(\"correct\");\n        } else {\n            ths.className = \"Input-text\";\n            ths.classList.add(\"incorrectButton\");\n            fb.className = \"Feedback\";\n            fb.classList.add(\"incorrect\");\n        }\n\n        // What follows is for the saved responses stuff\n        var outerContainer = fb.parentElement.parentElement;\n        var responsesContainer = document.getElementById(\"responses\" + outerContainer.id);\n        if (responsesContainer) {\n            console.log(submission);\n            var qnum = document.getElementById(\"quizWrap\"+id).dataset.qnum;\n            //console.log(\"Question \" + qnum);\n            //console.log(id, \", got numcorrect=\",fb.dataset.numcorrect);\n            var responses=JSON.parse(responsesContainer.dataset.responses);\n            console.log(responses);\n            if (submission == ths.value){\n                responses[qnum]= submission;\n            } else {\n                responses[qnum]= ths.value + \"(\" + submission +\")\";\n            }\n            responsesContainer.setAttribute('data-responses', JSON.stringify(responses));\n            printResponses(responsesContainer);\n        }\n        // End code to preserve responses\n\n        if (typeof MathJax != 'undefined') {\n            var version = MathJax.version;\n            console.log('MathJax version', version);\n            if (version[0] == \"2\") {\n                MathJax.Hub.Queue([\"Typeset\", MathJax.Hub]);\n            } else if (version[0] == \"3\") {\n                MathJax.typeset([fb]);\n            }\n        } else {\n            console.log('MathJax not detected');\n        }\n        return false;\n    }\n\n}\n\nfunction isValid(el, charC) {\n    //console.log(\"Input char: \", charC);\n    if (charC == 46) {\n        if (el.value.indexOf('.') === -1) {\n            return true;\n        } else if (el.value.indexOf('/') != -1) {\n            var parts = el.value.split('/');\n            if (parts[1].indexOf('.') === -1) {\n                return true;\n            }\n        }\n        else {\n            return false;\n        }\n    } else if (charC == 47) {\n        if (el.value.indexOf('/') === -1) {\n            if ((el.value != \"\") && (el.value != \".\")) {\n                return true;\n            } else {\n                return false;\n            }\n        } else {\n            return false;\n        }\n    } else if (charC == 45) {\n        var edex = el.value.indexOf('e');\n        if (edex == -1) {\n            edex = el.value.indexOf('E');\n        }\n\n        if (el.value == \"\") {\n            return true;\n        } else if (edex == (el.value.length - 1)) { // If just after e or E\n            return true;\n        } else {\n            return false;\n        }\n    } else if (charC == 101) { // \"e\"\n        if ((el.value.indexOf('e') === -1) && (el.value.indexOf('E') === -1) && (el.value.indexOf('/') == -1)) {\n            // Prev symbol must be digit or decimal point:\n            if (el.value.slice(-1).search(/\\d/) >= 0) {\n                return true;\n            } else if (el.value.slice(-1).search(/\\./) >= 0) {\n                return true;\n            } else {\n                return false;\n            }\n        } else {\n            return false;\n        }\n    } else {\n        if (charC > 31 && (charC < 48 || charC > 57))\n            return false;\n    }\n    return true;\n}\n\nfunction numeric_keypress(evnt) {\n    var charC = (evnt.which) ? evnt.which : evnt.keyCode;\n\n    if (charC == 13) {\n        check_numeric(this, evnt);\n    } else {\n        return isValid(this, charC);\n    }\n}\n\n\n\n\n\nfunction make_numeric(qa, outerqDiv, qDiv, aDiv, id) {\n\n\n\n    //console.log(answer);\n\n\n    outerqDiv.className = \"NumericQn\";\n    aDiv.style.display = 'block';\n\n    var lab = document.createElement(\"label\");\n    lab.className = \"InpLabel\";\n    lab.textContent = \"Type numeric answer here:\";\n    aDiv.append(lab);\n\n    var inp = document.createElement(\"input\");\n    inp.type = \"text\";\n    //inp.id=\"input-\"+id;\n    inp.id = id + \"-0\";\n    inp.className = \"Input-text\";\n    inp.setAttribute('data-answers', JSON.stringify(qa.answers));\n    if (\"precision\" in qa) {\n        inp.setAttribute('data-precision', qa.precision);\n    }\n    aDiv.append(inp);\n    //console.log(inp);\n\n    //inp.addEventListener(\"keypress\", check_numeric);\n    //inp.addEventListener(\"keypress\", numeric_keypress);\n    /*\n    inp.addEventListener(\"keypress\", function(event) {\n        return numeric_keypress(this, event);\n    }\n                        );\n                        */\n    //inp.onkeypress=\"return numeric_keypress(this, event)\";\n    inp.onkeypress = numeric_keypress;\n    inp.onpaste = event => false;\n\n    inp.addEventListener(\"focus\", function (event) {\n        this.value = \"\";\n        return false;\n    }\n    );\n\n\n}\nfunction jaxify(string) {\n    var mystring = string;\n\n    var count = 0;\n    var loc = mystring.search(/([^\\\\]|^)(\\$)/);\n\n    var count2 = 0;\n    var loc2 = mystring.search(/([^\\\\]|^)(\\$\\$)/);\n\n    //console.log(loc);\n\n    while ((loc >= 0) || (loc2 >= 0)) {\n\n        /* Have to replace all the double $$ first with current implementation */\n        if (loc2 >= 0) {\n            if (count2 % 2 == 0) {\n                mystring = mystring.replace(/([^\\\\]|^)(\\$\\$)/, \"$1\\\\[\");\n            } else {\n                mystring = mystring.replace(/([^\\\\]|^)(\\$\\$)/, \"$1\\\\]\");\n            }\n            count2++;\n        } else {\n            if (count % 2 == 0) {\n                mystring = mystring.replace(/([^\\\\]|^)(\\$)/, \"$1\\\\(\");\n            } else {\n                mystring = mystring.replace(/([^\\\\]|^)(\\$)/, \"$1\\\\)\");\n            }\n            count++;\n        }\n        loc = mystring.search(/([^\\\\]|^)(\\$)/);\n        loc2 = mystring.search(/([^\\\\]|^)(\\$\\$)/);\n        //console.log(mystring,\", loc:\",loc,\", loc2:\",loc2);\n    }\n\n    //console.log(mystring);\n    return mystring;\n}\n\n\nfunction show_questions(json, mydiv) {\n    console.log('show_questions');\n    //var mydiv=document.getElementById(myid);\n    var shuffle_questions = mydiv.dataset.shufflequestions;\n    var num_questions = mydiv.dataset.numquestions;\n    var shuffle_answers = mydiv.dataset.shuffleanswers;\n    var max_width = mydiv.dataset.maxwidth;\n\n    if (num_questions > json.length) {\n        num_questions = json.length;\n    }\n\n    var questions;\n    if ((num_questions < json.length) || (shuffle_questions == \"True\")) {\n        //console.log(num_questions+\",\"+json.length);\n        questions = getRandomSubarray(json, num_questions);\n    } else {\n        questions = json;\n    }\n\n    //console.log(\"SQ: \"+shuffle_questions+\", NQ: \" + num_questions + \", SA: \", shuffle_answers);\n\n    // Iterate over questions\n    questions.forEach((qa, index, array) => {\n        //console.log(qa.question); \n\n        var id = makeid(8);\n        //console.log(id);\n\n\n        // Create Div to contain question and answers\n        var iDiv = document.createElement('div');\n        //iDiv.id = 'quizWrap' + id + index;\n        iDiv.id = 'quizWrap' + id;\n        iDiv.className = 'Quiz';\n        iDiv.setAttribute('data-qnum', index);\n        iDiv.style.maxWidth  =max_width+\"px\";\n        mydiv.appendChild(iDiv);\n        // iDiv.innerHTML=qa.question;\n        \n        var outerqDiv = document.createElement('div');\n        outerqDiv.id = \"OuterquizQn\" + id + index;\n        // Create div to contain question part\n        var qDiv = document.createElement('div');\n        qDiv.id = \"quizQn\" + id + index;\n        \n        if (qa.question) {\n            iDiv.append(outerqDiv);\n\n            //qDiv.textContent=qa.question;\n            qDiv.innerHTML = jaxify(qa.question);\n            outerqDiv.append(qDiv);\n        }\n\n        // Create div for code inside question\n        var codeDiv;\n        if (\"code\" in qa) {\n            codeDiv = document.createElement('div');\n            codeDiv.id = \"code\" + id + index;\n            codeDiv.className = \"QuizCode\";\n            var codePre = document.createElement('pre');\n            codeDiv.append(codePre);\n            var codeCode = document.createElement('code');\n            codePre.append(codeCode);\n            codeCode.innerHTML = qa.code;\n            outerqDiv.append(codeDiv);\n            //console.log(codeDiv);\n        }\n\n\n        // Create div to contain answer part\n        var aDiv = document.createElement('div');\n        aDiv.id = \"quizAns\" + id + index;\n        aDiv.className = 'Answer';\n        iDiv.append(aDiv);\n\n        //console.log(qa.type);\n\n        var num_correct;\n        if ((qa.type == \"multiple_choice\") || (qa.type == \"many_choice\") ) {\n            num_correct = make_mc(qa, shuffle_answers, outerqDiv, qDiv, aDiv, id);\n            if (\"answer_cols\" in qa) {\n                //aDiv.style.gridTemplateColumns = 'auto '.repeat(qa.answer_cols);\n                aDiv.style.gridTemplateColumns = 'repeat(' + qa.answer_cols + ', 1fr)';\n            }\n        } else if (qa.type == \"numeric\") {\n            //console.log(\"numeric\");\n            make_numeric(qa, outerqDiv, qDiv, aDiv, id);\n        }\n\n\n        //Make div for feedback\n        var fb = document.createElement(\"div\");\n        fb.id = \"fb\" + id;\n        //fb.style=\"font-size: 20px;text-align:center;\";\n        fb.className = \"Feedback\";\n        fb.setAttribute(\"data-answeredcorrect\", 0);\n        fb.setAttribute(\"data-numcorrect\", num_correct);\n        iDiv.append(fb);\n\n\n    });\n    var preserveResponses = mydiv.dataset.preserveresponses;\n    console.log(preserveResponses);\n    console.log(preserveResponses == \"true\");\n    if (preserveResponses == \"true\") {\n        console.log(preserveResponses);\n        // Create Div to contain record of answers\n        var iDiv = document.createElement('div');\n        iDiv.id = 'responses' + mydiv.id;\n        iDiv.className = 'JCResponses';\n        // Create a place to store responses as an empty array\n        iDiv.setAttribute('data-responses', '[]');\n\n        // Dummy Text\n        iDiv.innerHTML=\"<b>Select your answers and then follow the directions that will appear here.</b>\"\n        //iDiv.className = 'Quiz';\n        mydiv.appendChild(iDiv);\n    }\n//console.log(\"At end of show_questions\");\n    if (typeof MathJax != 'undefined') {\n        console.log(\"MathJax version\", MathJax.version);\n        var version = MathJax.version;\n        setTimeout(function(){\n            var version = MathJax.version;\n            console.log('After sleep, MathJax version', version);\n            if (version[0] == \"2\") {\n                MathJax.Hub.Queue([\"Typeset\", MathJax.Hub]);\n            } else if (version[0] == \"3\") {\n                MathJax.typeset([mydiv]);\n            }\n        }, 500);\nif (typeof version == 'undefined') {\n        } else\n        {\n            if (version[0] == \"2\") {\n                MathJax.Hub.Queue([\"Typeset\", MathJax.Hub]);\n            } else if (version[0] == \"3\") {\n                MathJax.typeset([mydiv]);\n            } else {\n                console.log(\"MathJax not found\");\n            }\n        }\n    }\n    return false;\n}\n/* This is to handle asynchrony issues in loading Jupyter notebooks\n           where the quiz has been previously run. The Javascript was generally\n           being run before the div was added to the DOM. I tried to do this\n           more elegantly using Mutation Observer, but I didn't get it to work.\n\n           Someone more knowledgeable could make this better ;-) */\n\n        function try_show() {\n          if(document.getElementById(\"BYuOqURkhaED\")) {\n            show_questions(questionsBYuOqURkhaED,  BYuOqURkhaED); \n          } else {\n             setTimeout(try_show, 200);\n          }\n        };\n    \n        {\n        // console.log(element);\n\n        //console.log(\"BYuOqURkhaED\");\n        // console.log(document.getElementById(\"BYuOqURkhaED\"));\n\n        try_show();\n        }\n        ",
      "text/plain": [
       "<IPython.core.display.Javascript object>"
      ]
     },
     "metadata": {},
     "output_type": "display_data"
    }
   ],
   "source": [
    "from jupyterquiz import display_quiz\n",
    "\n",
    "display_quiz('questions.json')"
   ]
  },
  {
   "cell_type": "code",
   "execution_count": 16,
   "metadata": {},
   "outputs": [
    {
     "data": {
      "text/plain": [
       "('porters.gif', <http.client.HTTPMessage at 0x10c412460>)"
      ]
     },
     "execution_count": 16,
     "metadata": {},
     "output_type": "execute_result"
    }
   ],
   "source": [
    "# download all the gifs locally from their urls\n",
    "import urllib.request\n",
    "urllib.request.urlretrieve(halifax_gif.gif, \"halifax.gif\")\n",
    "urllib.request.urlretrieve(ontario_gif.gif, \"ontario.gif\")\n",
    "urllib.request.urlretrieve(lightfoot_gif.gif, \"lightfoot.gif\")\n",
    "urllib.request.urlretrieve(porters_gif.gif, \"porters.gif\")\n"
   ]
  }
 ],
 "metadata": {
  "kernelspec": {
   "display_name": "torch",
   "language": "python",
   "name": "python3"
  },
  "language_info": {
   "codemirror_mode": {
    "name": "ipython",
    "version": 3
   },
   "file_extension": ".py",
   "mimetype": "text/x-python",
   "name": "python",
   "nbconvert_exporter": "python",
   "pygments_lexer": "ipython3",
   "version": "3.9.18"
  }
 },
 "nbformat": 4,
 "nbformat_minor": 2
}
