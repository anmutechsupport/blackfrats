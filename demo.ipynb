{
 "cells": [
  {
   "cell_type": "code",
   "execution_count": 2,
   "metadata": {},
   "outputs": [
    {
     "name": "stdout",
     "output_type": "stream",
     "text": [
      "Collecting replicate\n",
      "  Using cached replicate-0.22.0-py3-none-any.whl.metadata (22 kB)\n",
      "Collecting httpx<1,>=0.21.0 (from replicate)\n",
      "  Using cached httpx-0.25.2-py3-none-any.whl.metadata (6.9 kB)\n",
      "Requirement already satisfied: packaging in /Users/anushmutyala/opt/miniconda3/envs/fresh_torch/lib/python3.9/site-packages (from replicate) (23.2)\n",
      "Collecting pydantic>1 (from replicate)\n",
      "  Using cached pydantic-2.5.2-py3-none-any.whl.metadata (65 kB)\n",
      "Requirement already satisfied: typing-extensions>=4.5.0 in /Users/anushmutyala/opt/miniconda3/envs/fresh_torch/lib/python3.9/site-packages (from replicate) (4.9.0)\n",
      "Collecting anyio (from httpx<1,>=0.21.0->replicate)\n",
      "  Using cached anyio-4.1.0-py3-none-any.whl.metadata (4.5 kB)\n",
      "Collecting certifi (from httpx<1,>=0.21.0->replicate)\n",
      "  Downloading certifi-2023.11.17-py3-none-any.whl.metadata (2.2 kB)\n",
      "Collecting httpcore==1.* (from httpx<1,>=0.21.0->replicate)\n",
      "  Using cached httpcore-1.0.2-py3-none-any.whl.metadata (20 kB)\n",
      "Collecting idna (from httpx<1,>=0.21.0->replicate)\n",
      "  Downloading idna-3.6-py3-none-any.whl.metadata (9.9 kB)\n",
      "Collecting sniffio (from httpx<1,>=0.21.0->replicate)\n",
      "  Downloading sniffio-1.3.0-py3-none-any.whl (10 kB)\n",
      "Collecting h11<0.15,>=0.13 (from httpcore==1.*->httpx<1,>=0.21.0->replicate)\n",
      "  Downloading h11-0.14.0-py3-none-any.whl (58 kB)\n",
      "\u001b[2K     \u001b[90m━━━━━━━━━━━━━━━━━━━━━━━━━━━━━━━━━━━━━━━━\u001b[0m \u001b[32m58.3/58.3 kB\u001b[0m \u001b[31m3.4 MB/s\u001b[0m eta \u001b[36m0:00:00\u001b[0m\n",
      "\u001b[?25hCollecting annotated-types>=0.4.0 (from pydantic>1->replicate)\n",
      "  Using cached annotated_types-0.6.0-py3-none-any.whl.metadata (12 kB)\n",
      "Collecting pydantic-core==2.14.5 (from pydantic>1->replicate)\n",
      "  Using cached pydantic_core-2.14.5-cp39-cp39-macosx_11_0_arm64.whl.metadata (6.5 kB)\n",
      "Requirement already satisfied: exceptiongroup>=1.0.2 in /Users/anushmutyala/opt/miniconda3/envs/fresh_torch/lib/python3.9/site-packages (from anyio->httpx<1,>=0.21.0->replicate) (1.2.0)\n",
      "Using cached replicate-0.22.0-py3-none-any.whl (35 kB)\n",
      "Using cached httpx-0.25.2-py3-none-any.whl (74 kB)\n",
      "Using cached httpcore-1.0.2-py3-none-any.whl (76 kB)\n",
      "Using cached pydantic-2.5.2-py3-none-any.whl (381 kB)\n",
      "Using cached pydantic_core-2.14.5-cp39-cp39-macosx_11_0_arm64.whl (1.7 MB)\n",
      "Using cached annotated_types-0.6.0-py3-none-any.whl (12 kB)\n",
      "Using cached anyio-4.1.0-py3-none-any.whl (83 kB)\n",
      "Downloading idna-3.6-py3-none-any.whl (61 kB)\n",
      "\u001b[2K   \u001b[90m━━━━━━━━━━━━━━━━━━━━━━━━━━━━━━━━━━━━━━━━\u001b[0m \u001b[32m61.6/61.6 kB\u001b[0m \u001b[31m4.4 MB/s\u001b[0m eta \u001b[36m0:00:00\u001b[0m\n",
      "\u001b[?25hDownloading certifi-2023.11.17-py3-none-any.whl (162 kB)\n",
      "\u001b[2K   \u001b[90m━━━━━━━━━━━━━━━━━━━━━━━━━━━━━━━━━━━━━━━━\u001b[0m \u001b[32m162.5/162.5 kB\u001b[0m \u001b[31m11.3 MB/s\u001b[0m eta \u001b[36m0:00:00\u001b[0m\n",
      "\u001b[?25hInstalling collected packages: sniffio, pydantic-core, idna, h11, certifi, annotated-types, pydantic, httpcore, anyio, httpx, replicate\n",
      "Successfully installed annotated-types-0.6.0 anyio-4.1.0 certifi-2023.11.17 h11-0.14.0 httpcore-1.0.2 httpx-0.25.2 idna-3.6 pydantic-2.5.2 pydantic-core-2.14.5 replicate-0.22.0 sniffio-1.3.0\n",
      "Note: you may need to restart the kernel to use updated packages.\n"
     ]
    }
   ],
   "source": [
    "pip install replicate"
   ]
  },
  {
   "cell_type": "code",
   "execution_count": 56,
   "metadata": {},
   "outputs": [
    {
     "name": "stdout",
     "output_type": "stream",
     "text": [
      "r8_6HeipA7esvdRbFfCkSZxnL8QD2CYryI1LuTGX\n"
     ]
    }
   ],
   "source": [
    "import replicate\n",
    "import os \n",
    "from IPython.display import Video, Image\n",
    "\n",
    "os.environ[\"REPLICATE_API_TOKEN\"] = \"r8_6HeipA7esvdRbFfCkSZxnL8QD2CYryI1LuTGX\"\n",
    "print(os.environ.get(\"REPLICATE_API_TOKEN\"))\n",
    "replicate = replicate.Client(api_token='r8_6HeipA7esvdRbFfCkSZxnL8QD2CYryI1LuTGX')\n",
    "\n",
    "class txt2gif:\n",
    "    def __init__(self, prompt):\n",
    "        self.prompt = prompt\n",
    "        self.gif = \"\"\n",
    "    def generate(self):\n",
    "        self.gif = replicate.run(\n",
    "        \"lucataco/hotshot-xl:78b3a6257e16e4b241245d65c8b2b81ea2e1ff7ed4c55306b511509ddbfd327a\",\n",
    "        input={\n",
    "            \"mp4\": False,\n",
    "            \"seed\": 6226,\n",
    "            \"steps\": 30,\n",
    "            \"width\": 672,\n",
    "            \"height\": 384,\n",
    "            \"prompt\": self.prompt,\n",
    "            \"scheduler\": \"EulerAncestralDiscreteScheduler\",\n",
    "            \"negative_prompt\": \"lowres, text, error, cropped, worst quality, low quality, jpeg artifacts, ugly, duplicate, morbid, mutilated, out of frame, extra fingers, mutated hands, poorly drawn hands, poorly drawn face, mutation, deformed, blurry, dehydrated, bad anatomy, bad proportions, extra limbs, cloned face, disfigured, gross proportions, malformed limbs, missing arms, missing legs, extra arms, extra legs, fused fingers, too many fingers, long neck, username, watermark, signature\"\n",
    "        }\n",
    "        )\n",
    "    def show(self):\n",
    "        return Image(url=self.gif)"
   ]
  },
  {
   "cell_type": "code",
   "execution_count": 49,
   "metadata": {},
   "outputs": [
    {
     "data": {
      "text/html": [
       "<img src=\"https://replicate.delivery/pbxt/sN6Q4b1Mj1YuHhqJHoIeFoxHYf2gfZznXJ9x4kAt53rz6BEkA/output.gif\"/>"
      ],
      "text/plain": [
       "<IPython.core.display.Image object>"
      ]
     },
     "execution_count": 49,
     "metadata": {},
     "output_type": "execute_result"
    }
   ],
   "source": [
    "test = txt2gif(\"A cat in a field\")\n",
    "test.generate()\n",
    "test.show()"
   ]
  },
  {
   "cell_type": "code",
   "execution_count": 45,
   "metadata": {},
   "outputs": [
    {
     "name": "stdout",
     "output_type": "stream",
     "text": [
      "https://replicate.delivery/pbxt/xjfYm635eXn6D0TNfP8jPeAuFefuihOTA9yFgwGf04fNkzACSA/output.gif\n"
     ]
    }
   ],
   "source": [
    "output = replicate.run(\n",
    "  \"lucataco/hotshot-xl:78b3a6257e16e4b241245d65c8b2b81ea2e1ff7ed4c55306b511509ddbfd327a\",\n",
    "  input={\n",
    "    \"mp4\": False,\n",
    "    \"seed\": 6226,\n",
    "    \"steps\": 30,\n",
    "    \"width\": 672,\n",
    "    \"height\": 384,\n",
    "    \"prompt\": \"A digital artwork portraying the daily life of Black Freemasons and transportation workers in early 20th-century Halifax, showing them in a harmonious gathering. The scene is set against a backdrop of historic Halifax docks, with a muted color palette evoking a sense of nostalgia. Emphasize the dignity and solidarity of the figures, drawing inspiration from realism art style.\",\n",
    "    \"scheduler\": \"EulerAncestralDiscreteScheduler\",\n",
    "    \"negative_prompt\": \"blurry\"\n",
    "  }\n",
    ")\n",
    "print(output)"
   ]
  },
  {
   "cell_type": "code",
   "execution_count": 46,
   "metadata": {},
   "outputs": [
    {
     "data": {
      "text/html": [
       "<img src=\"https://replicate.delivery/pbxt/xjfYm635eXn6D0TNfP8jPeAuFefuihOTA9yFgwGf04fNkzACSA/output.gif\"/>"
      ],
      "text/plain": [
       "<IPython.core.display.Image object>"
      ]
     },
     "execution_count": 46,
     "metadata": {},
     "output_type": "execute_result"
    }
   ],
   "source": [
    "from IPython.display import Image\n",
    "Image(url=output)\n"
   ]
  },
  {
   "cell_type": "markdown",
   "metadata": {},
   "source": [
    "- figure out which information i want to use to generate my gifs \n",
    "- build out the inline quiz \n",
    "- mint nfts from the gifs and put em on opensea testnet"
   ]
  },
  {
   "cell_type": "markdown",
   "metadata": {},
   "source": [
    "# What are Fraternal Organizations? \n",
    "\n",
    "Fraternal organizations are societies typically formed for mutual aid and companionship. These organizations are bonded by common goals, aspirations, and ideologies, often with rituals and symbols unique to their structure. One of the key characteristics of fraternal organizations is their commitment to community service, moral development, and social networking among members. \n",
    "\n",
    "#### Freemasonry: A High-Level Overview\n",
    "\n",
    "**Freemasonry** stands out as one of the most recognized fraternal organizations. Its origins trace back to the late 16th to early 17th century, evolving from the stonemason guilds of the Middle Ages. It is often described as a system of morality, veiled in allegory and illustrated by symbols, with a primary objective of moral and ethical improvement of its members.\n",
    "\n",
    "**Key Characteristics of Freemasonry:**\n",
    "- **Values**: Freemasonry espouses values such as integrity, kindness, honesty, and fairness.\n",
    "- **Structure**: It is structured in a hierarchical order with various degrees of initiation, the most common being the Entered Apprentice, Fellowcraft, and Master Mason.\n",
    "- **Secrecy and Rituals**: Freemasonry is known for its secret handshakes, rituals, and symbols, like the square and compasses.\n",
    "- **Community Service**: Freemasons are deeply involved in charitable work, contributing to various causes and community services.\n",
    "\n",
    "**Freemasonry in the Context of Black Communities:**\n",
    "- Freemasonry played a significant role in providing a support system for Black communities, especially in historical contexts where they faced discrimination and social exclusion.\n",
    "- Prince Hall Freemasonry, a branch of Freemasonry primarily for African Americans, was founded by Prince Hall and is a notable example of how Freemasonry adapted to the needs of Black communities, promoting racial equality and social justice.\n",
    "\n",
    "<img src=\"https://files.shroomery.org/files/09-19/185740633-163012326-emblematic-structure-of-freemasonry.gif\" width=\"600\" height=\"800\">\n",
    "\n"
   ]
  },
  {
   "cell_type": "markdown",
   "metadata": {},
   "source": [
    "# Union Lodge in Halifax \n",
    "\n",
    "#### Freemasonry's Appeal to Transportation Workers\n",
    "- **Background**: Freemasonry significantly influenced transportation workers like seamen and railwaymen.\n",
    "\n",
    "- **Membership Composition**: Approximately 60% of Union Lodge members were black transportation workers.\n",
    "\n",
    "- **International Network**: Freemasonry offered a global network providing contacts, resources in times of distress, and security for families of constantly mobile members.\n",
    "\n",
    "#### Union Lodge and Masonic Honors\n",
    "- **Diverse Membership**: Union Lodge in Halifax was notable for its varied members, including prominent citizens and transient workers.\n",
    "\n",
    "- **Masonic Support**: Provided support to black porters and seamen often excluded from labor unions. Notable cases include Masonic honors for deceased members like Robert J. White, who received care in a Masonic bed at Victoria General Hospital.\n",
    "\n",
    "#### Freemasonry and Social Mobility\n",
    "- **Financial Support Systems**: Attracted black transportation workers with benefits akin to early life insurance, including sickness, funeral, and widows' funds.\n",
    "\n",
    "- **Generational Involvement**: The lodge saw membership across family generations, often leading to new members entering railway employment.\n",
    "\n",
    "#### Integration with Other Fraternal Orders\n",
    "- **Cross-Order Participation**: Caribbean immigrants in Halifax were involved in Freemasonry and other British fraternal orders like the IOGT and IOOF, reinforcing loyalty to British forms and institutions.\n",
    "\n",
    "#### Role of Freemasonry in Community and Employment\n",
    "- **Community Bonding**: Freemasonry provided a sense of belonging, especially for marginalized job roles.\n",
    "\n",
    "- **Indicator of Limited Job Opportunities**: Highlighted the narrowing job opportunities for well-educated black men due to racial discrimination.\n",
    "\n",
    "#### Historical Context\n",
    "- **Employment and Social Patterns**: The lodge’s history is contextualized within the employment, family life, and social mobility patterns of black transportation workers in Halifax.\n",
    "\n",
    "#### Examples of Economic Outcomes\n",
    "- **Transition to Entrepreneurship**: Beresford Augustus Husbands, a Barbadian seaman and Freemason, initially worked as a porter for the Intercolonial Railway between 1904 and 1909. He then transitioned to entrepreneurship by opening an advertising agency and later, in 1914, a West Indian products import company. His initiation into Freemasonry and subsequent marriage likely provided him with the network and social capital necessary for these entrepreneurial ventures.\n",
    "\n",
    "- **Joint Ventures in Marine Education**: Clifford Edmund Ward, a master mariner and Freemason originally from Barbados, opened the only marine school in Halifax in the early 20th century. This school catered to training white masters and mates for certification examinations. His Freemason affiliation, coupled with his maritime expertise, likely played a critical role in establishing this educational venture.\n",
    "\n",
    "- **Diverse Business Endeavors**: The Freemasons in the document demonstrated a range of entrepreneurial activities. While some, like Husbands, moved into advertising and import business, others like William Chearnley, who alternated between being a barber and a porter, displayed occupational pluralism. This diversity indicates that Freemason connections facilitated a variety of economic opportunities, from traditional trades to more modern enterprises.\n",
    "\n",
    "- **Support in Career Transitions**: Freemasonry provided a platform for members to support each other in career transitions. For example, James McN. Daniels transitioned from a seafaring career to railway employment and later became a prominent figure in the black community and a lodge master, indicating that Freemasonry played a role in his professional advancement and transition.\n",
    "\n",
    "<img src=\"https://files.shroomery.org/files/09-19/185740633-163012326-emblematic-structure-of-freemasonry.gif\" width=\"600\" height=\"800\">\n"
   ]
  },
  {
   "cell_type": "code",
   "execution_count": 50,
   "metadata": {},
   "outputs": [
    {
     "data": {
      "text/html": [
       "<img src=\"https://replicate.delivery/pbxt/4psI9rmBf1RXSKQwyHdVGF5SCLFV0TW1AI1yLdcZ6pbofACSA/output.gif\"/>"
      ],
      "text/plain": [
       "<IPython.core.display.Image object>"
      ]
     },
     "execution_count": 50,
     "metadata": {},
     "output_type": "execute_result"
    }
   ],
   "source": [
    "prompt_halifax = \"A digital artwork portraying the daily life of Black Freemasons and transportation workers in early 20th-century Halifax, showing them in a harmonious gathering. The scene is set against a backdrop of historic Halifax docks, with a muted color palette evoking a sense of nostalgia. Emphasize the dignity and solidarity of the figures, drawing inspiration from realism art style.\"\n",
    "halifax_gif = txt2gif(prompt_halifax)\n",
    "halifax_gif.generate()\n",
    "halifax_gif.show()"
   ]
  },
  {
   "cell_type": "markdown",
   "metadata": {},
   "source": [
    "# Prince Hall Freemasonry in Ontario\n",
    "\n",
    "#### Foundation and Expansion\n",
    "- **Post-Emancipation Growth**: Following the Emancipation Act of 1833, Prince Hall Freemasonry expanded significantly in Canada, driven by the influx of Blacks seeking freedom.\n",
    "- **Significance**: This branch of Freemasonry was established to serve people of color, offering a unique space for community and support.\n",
    "\n",
    "#### Freedom and Security\n",
    "- **Safe Haven**: Prince Hall Freemasonry provided freedom, security, and safety, distinguishing itself as a unique organization primarily for and by people of color.\n",
    "\n",
    "#### Community of Empowerment\n",
    "- **Empowering Community**: The organization fostered a sense of belonging and empowerment among its members, particularly in the face of social and political challenges post-emancipation.\n",
    "\n",
    "#### Leadership Opportunities\n",
    "- **Cultivating Leaders**: Enabled Black men to transition from inferior societal roles to positions of leadership and influence, contributing to personal development and societal recognition.\n",
    "\n",
    "#### Prominent Figures\n",
    "- **Notable Members**: Key figures such as Dr. Martin Delany, Rev. Thomas Stringer, Abraham D. Shadd, and Rev. Benjamin Stewart emerged as leaders, symbolizing the organization's role in nurturing Black leadership.\n",
    "\n",
    "#### Canadian Establishments\n",
    "- **Spread Across Canada West**: The first Prince Hall Masonry lodge in Canada was established in Hamilton in 1851, with subsequent lodges in Toronto, Owen Sound, London, Chatham, Dresden, Buxton, and Windsor.\n",
    "\n",
    "#### Unification and Structure\n",
    "- **Organizational Growth**: To manage the rapid expansion of lodges, the Prince Hall Masons in Ontario united in 1871 to form the Grand Lodge of the Province of Ontario.\n",
    "\n",
    "#### Rev. Benjamin F. Stewart's Role\n",
    "- **Influential Leadership**: Rev. Benjamin Stewart significantly influenced Prince Hall Masonry in Canada and the U.S., demonstrating impactful leadership in both the church and Masonic lodges.\n",
    "\n",
    "#### Impact on Local Black Communities\n",
    "- **Community Enhancement**: In places like Chatham Kent, Ontario, Prince Hall Freemasonry profoundly affected the lives of the Black community, enriching cultural and historical foundations.\n",
    "\n",
    "#### Legacy and Recognition\n",
    "- **Enduring Significance**: The legacy and cultural significance of Prince Hall Freemasonry continue to be recognized for its historical impact on Black Canadian communities.\n",
    "\n",
    "**Below is an image of the Prince Hall Freemasonry Grand Master medal**:\n",
    "\n",
    "<img src=\"https://www.huronresearch.ca/antislavery/wp-content/uploads/sites/24/2019/03/IMG_1626-1500x2000.jpg\" width=\"400\" height=\"600\">"
   ]
  },
  {
   "cell_type": "code",
   "execution_count": 52,
   "metadata": {},
   "outputs": [
    {
     "data": {
      "text/html": [
       "<img src=\"https://replicate.delivery/pbxt/dIIAYvlfRBwiXSZWvHBj6xefo0dnSbTvexDUOyf35CoDHKQQC/output.gif\"/>"
      ],
      "text/plain": [
       "<IPython.core.display.Image object>"
      ]
     },
     "execution_count": 52,
     "metadata": {},
     "output_type": "execute_result"
    }
   ],
   "source": [
    "prompt_ontario = \"Early 20th century, Prince Hall Freemasonry gathering in Ontario, group of dignified Black men in Masonic regalia, vibrant yet solemn atmosphere, historical urban Canadian backdrop, sepia tones, intricate masonic symbols subtly integrated, soft dynamic lighting, oil painting style reminiscent of classical portraiture, detailed architectural elements, sense of unity and empowerment, heightened realism, depth in texture, emotional resonance, strong contrast with muted colors.\"\n",
    "ontario_gif = txt2gif(prompt_ontario)\n",
    "ontario_gif.generate()\n",
    "ontario_gif.show()"
   ]
  },
  {
   "cell_type": "markdown",
   "metadata": {},
   "source": [
    "# Historically Significant Masons: Charles Lightfoot Roman \n",
    "\n",
    "#### A Trailblazing Doctor and Freemason:\n",
    "- **First Black Grand Master**: Roman became the first Black Grand Master of a traditional Masonic lodge.\n",
    "- **Freemasonry Career**: Initiated into Valleyfield Lodge (1923), Worshipful Master (1929), District Deputy Grand Master for Montreal District No. 3 (1934), Deputy Grand Master of the Grand Lodge of Quebec (1950), and elected Grand Master (1952).\n",
    "- **Significant Achievement**: Believed to be the first Black person to lead a traditional or mainstream Grand Lodge in North America.\n",
    "- **Military Service**: One of the first Black Canadians to enlist for service in WWI with the Canadian General Hospital No. 3 (McGill).\n",
    "- **Academic and Professional Accomplishments**: Graduated from McGill University’s Faculty of Medicine and became a renowned expert in industrial medicine.\n",
    "\n",
    "#### Joseph Henson: The Predecessor\n",
    "- **Dawn Settlement Founder**: Established the Dawn Settlement near Chatham, Ontario, a pivotal community for escaped slaves and free Black people.\n",
    "- **Education Advocate**: Emphasized the importance of education, establishing a manual-labor school in the Dawn Settlement.\n",
    "- **Freemasonry Role**: Joined Mount Moriah Lodge No. 11 in Dresden, Ontario, under the Prince Hall Affiliation, serving as its Secretary.\n",
    "- **Rescue Effort**: Played a key role in rescuing the Lightfoot family from Kentucky to Canada through the Underground Railroad, building strong community ties.\n",
    "- **Legacy**: Paved the way for future generations, influencing descendants like Dr. Charles Lightfoot Roman.\n",
    "\n",
    "**Below is an image of Charles Roman Lightfoot**:\n",
    "\n",
    "<img src=\"https://d3d0lqu00lnqvz.cloudfront.net/media/media/c22f2dde-a1f0-4d37-a764-ff8dac64c843.jpg\" width=\"400\" height=\"600\">"
   ]
  },
  {
   "cell_type": "code",
   "execution_count": 63,
   "metadata": {},
   "outputs": [
    {
     "data": {
      "text/html": [
       "<img src=\"https://replicate.delivery/pbxt/gLwS9Pmv5EbpApobpXTwC7QqDTEFtkl7uZM7cObQPv3dbggE/output.gif\"/>"
      ],
      "text/plain": [
       "<IPython.core.display.Image object>"
      ]
     },
     "execution_count": 63,
     "metadata": {},
     "output_type": "execute_result"
    }
   ],
   "source": [
    "prompt_lightfoot = \"2 Black Men Shaking Hands, Ontario Flag vs. Quebec Flag Background, 20th Century, Historical, Freemasonry, Masonic, Masons, Masonic Regalia, Masonic Symbols, Masonic Lodge\"\n",
    "lightfoot_gif = txt2gif(prompt_lightfoot)\n",
    "lightfoot_gif.generate()\n",
    "lightfoot_gif.show()"
   ]
  },
  {
   "cell_type": "markdown",
   "metadata": {},
   "source": [
    "# Brotherhood of Sleeping Car Porters in Canada\n",
    "\n",
    "#### Challenging Working Conditions\n",
    "- **Demanding Roles**: Porters, who were often highly educated, faced exhausting and demeaning work, performing tasks like fetching drinks, making beds, and carrying luggage for long hours with little rest.\n",
    "\n",
    "#### Low Wages and Racial Discrimination\n",
    "- **Economic Hardship**: Porters were poorly compensated, heavily reliant on tips, and faced workplace discrimination, with roles like train conductors reserved for white employees until 1954.\n",
    "\n",
    "#### Formation of the OSCP\n",
    "- **First Black Labor Union**: In response to poor working conditions, the Order of Sleeping Car Porters (OSCP), North America's first Black labor union, was established in 1917 by Black Canadian porters.\n",
    "\n",
    "#### Negotiations for Better Conditions\n",
    "- **Union Efforts**: Despite resistance, the OSCP successfully negotiated improved wages and job protections with Canadian National Railway (CNR) by 1919, but faced challenges with Canadian Pacific Railway (CPR).\n",
    "\n",
    "#### Brotherhood of Sleeping Car Porters (BSCP) in Canada\n",
    "- **Organizational Growth**: Supported by the American BSCP, Canadian porters began organizing in 1939, establishing BSCP divisions in major cities by 1942, and achieving a collective bargaining agreement with the CPR in 1945.\n",
    "- **Founding Influence**: Originally founded in New York City in 1925 by A. Philip Randolph, who was also a Freemason.\n",
    "\n",
    "#### Breaking Racial Barriers\n",
    "- **Historical Milestone**: The BSCP's advocacy led to the hiring of the first Black sleeping car conductor in Canada in 1954, marking a major step in breaking down racial barriers in the workplace.\n",
    "\n",
    "#### Broader Impact on Civil Rights\n",
    "- **Advocacy Beyond Labor Rights**: The BSCP significantly contributed to civil rights movements, advocating for the broader rights and equality of Black Canadians.\n",
    "\n",
    "#### Legacy\n",
    "- **Enduring Impact**: The BSCP's legacy is marked by resilience and courage against racial discrimination and exploitation, laying a foundation for future civil rights advancements.\n",
    "\n",
    "**Below is an image of Stanley G. Grizzle's plaque in the car he was in charge of**:\n",
    "\n",
    "<img src=\"https://d3d0lqu00lnqvz.cloudfront.net/media/new_article_images/SleepingCarPorters/L3D311048.jpg\" width=\"600\" height=\"400\">\n"
   ]
  },
  {
   "cell_type": "code",
   "execution_count": 64,
   "metadata": {},
   "outputs": [
    {
     "data": {
      "text/html": [
       "<img src=\"https://replicate.delivery/pbxt/4Rz08eYgfvoeToAeTwH12pJcub9weGJONp1TLzvpU49nFRQQC/output.gif\"/>"
      ],
      "text/plain": [
       "<IPython.core.display.Image object>"
      ]
     },
     "execution_count": 64,
     "metadata": {},
     "output_type": "execute_result"
    }
   ],
   "source": [
    "prompt_porters = \"Early 20th-century Canadian railway scene, Black sleeping car porters in uniform, hard at work in a vintage train car, sepia-toned imagery, feeling of movement and labor, contrasting expressions of determination and resilience, subtle background elements of Canadian landscapes, historical ambiance, muted yet warm lighting, focus on detailed gestures and interactions, representation of unity and strength in adversity, art style reminiscent of period photography, visual storytelling of struggle and progress, textured fabric details, atmospheric depth, emotional narrative.\"\n",
    "porters_gif = txt2gif(prompt_porters)\n",
    "porters_gif.generate()\n",
    "porters_gif.show()"
   ]
  },
  {
   "cell_type": "code",
   "execution_count": 16,
   "metadata": {},
   "outputs": [
    {
     "name": "stdout",
     "output_type": "stream",
     "text": [
      "['https://replicate.delivery/pbxt/9kn9wrQf5i1tHyrBb2m6JeHfDlwUttMSse1h1yTHzv3ilDFIB/output-0.mp4']\n"
     ]
    }
   ],
   "source": [
    "output = replicate.run(\n",
    "  \"anotherjesse/zeroscope-v2-xl:9f747673945c62801b13b84701c783929c0ee784e4748ec062204894dda1a351\",\n",
    "  input={\n",
    "    \"fps\": 24,\n",
    "    \"model\": \"xl\",\n",
    "    \"width\": 1024,\n",
    "    \"height\": 576,\n",
    "    \"prompt\": \"Black Canadians in Freemasonry in the 19th century\",\n",
    "    \"batch_size\": 1,\n",
    "    \"num_frames\": 24,\n",
    "    \"init_weight\": 0.5,\n",
    "    \"guidance_scale\": 17.5,\n",
    "    \"negative_prompt\": \"very blue, dust, noisy, washed out, ugly, distorted, broken\",\n",
    "    \"remove_watermark\": False,\n",
    "    \"num_inference_steps\": 50,\n",
    "    \"fast\": True,\n",
    "  }\n",
    ")\n",
    "print(output)"
   ]
  },
  {
   "cell_type": "code",
   "execution_count": null,
   "metadata": {},
   "outputs": [
    {
     "data": {
      "text/html": [
       "<video width=\"320\" height=\"240\" controls>\n",
       "  <source src=\"https://replicate.delivery/pbxt/9kn9wrQf5i1tHyrBb2m6JeHfDlwUttMSse1h1yTHzv3ilDFIB/output-0.mp4\" type=\"video/mp4\">\n",
       "Your browser does not support the video tag.\n",
       "</video>\n"
      ],
      "text/plain": [
       "<IPython.core.display.HTML object>"
      ]
     },
     "metadata": {},
     "output_type": "display_data"
    }
   ],
   "source": [
    "%%HTML\n",
    "<video width=\"320\" height=\"240\" controls>\n",
    "  <source src=\"https://replicate.delivery/pbxt/9kn9wrQf5i1tHyrBb2m6JeHfDlwUttMSse1h1yTHzv3ilDFIB/output-0.mp4\" type=\"video/mp4\">\n",
    "Your browser does not support the video tag.\n",
    "</video>"
   ]
  }
 ],
 "metadata": {
  "kernelspec": {
   "display_name": "torch",
   "language": "python",
   "name": "python3"
  },
  "language_info": {
   "codemirror_mode": {
    "name": "ipython",
    "version": 3
   },
   "file_extension": ".py",
   "mimetype": "text/x-python",
   "name": "python",
   "nbconvert_exporter": "python",
   "pygments_lexer": "ipython3",
   "version": "3.9.18"
  }
 },
 "nbformat": 4,
 "nbformat_minor": 2
}
